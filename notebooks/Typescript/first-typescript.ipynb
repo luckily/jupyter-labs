{
 "cells": [
  {
   "cell_type": "code",
   "execution_count": 1,
   "metadata": {},
   "outputs": [],
   "source": [
    "const a: string = \"abc\";"
   ]
  },
  {
   "cell_type": "code",
   "execution_count": 2,
   "metadata": {},
   "outputs": [
    {
     "name": "stdout",
     "output_type": "stream",
     "text": [
      "abc\n"
     ]
    }
   ],
   "source": [
    "console.log(a);"
   ]
  },
  {
   "cell_type": "code",
   "execution_count": 3,
   "metadata": {},
   "outputs": [
    {
     "name": "stdout",
     "output_type": "stream",
     "text": [
      "abc\n"
     ]
    }
   ],
   "source": [
    "a"
   ]
  },
  {
   "cell_type": "code",
   "execution_count": 4,
   "metadata": {},
   "outputs": [
    {
     "name": "stdout",
     "output_type": "stream",
     "text": [
      "abc123\n"
     ]
    }
   ],
   "source": [
    "console.log(`${a}123`);"
   ]
  },
  {
   "cell_type": "code",
   "execution_count": 1,
   "metadata": {},
   "outputs": [
    {
     "name": "stderr",
     "output_type": "stream",
     "text": [
      "1:19 - Cannot find module 'axios'.\n"
     ]
    }
   ],
   "source": [
    "import axios from 'axios';"
   ]
  },
  {
   "cell_type": "code",
   "execution_count": 2,
   "metadata": {},
   "outputs": [
    {
     "name": "stderr",
     "output_type": "stream",
     "text": [
      "1:24 - Cannot find module 'axios'.\n"
     ]
    }
   ],
   "source": [
    "import * as axios from 'axios';"
   ]
  },
  {
   "cell_type": "code",
   "execution_count": 3,
   "metadata": {},
   "outputs": [
    {
     "name": "stderr",
     "output_type": "stream",
     "text": [
      "1:1 - Import assignment cannot be used when targeting ECMAScript modules. Consider using 'import * as ns from \"mod\"', 'import {a} from \"mod\"', 'import d from \"mod\"', or another module format instead.\n",
      "1:24 - Cannot find module 'axios'.\n"
     ]
    }
   ],
   "source": [
    "import axios = require('axios');"
   ]
  },
  {
   "cell_type": "code",
   "execution_count": 4,
   "metadata": {},
   "outputs": [
    {
     "name": "stderr",
     "output_type": "stream",
     "text": [
      "1:19 - 'from' expected.\n",
      "1:19 - String literal expected.\n"
     ]
    }
   ],
   "source": [
    "import * as axios = require('axios');"
   ]
  },
  {
   "cell_type": "code",
   "execution_count": 5,
   "metadata": {},
   "outputs": [
    {
     "name": "stderr",
     "output_type": "stream",
     "text": [
      "1:1 - Import assignment cannot be used when targeting ECMAScript modules. Consider using 'import * as ns from \"mod\"', 'import {a} from \"mod\"', 'import d from \"mod\"', or another module format instead.\n",
      "1:24 - Cannot find module 'axios'.\n"
     ]
    }
   ],
   "source": [
    "import axios = require('axios');"
   ]
  },
  {
   "cell_type": "code",
   "execution_count": 6,
   "metadata": {},
   "outputs": [
    {
     "name": "stderr",
     "output_type": "stream",
     "text": [
      "1:19 - 'from' expected.\n",
      "1:19 - String literal expected.\n"
     ]
    }
   ],
   "source": [
    "import * as axios = require('axios');"
   ]
  },
  {
   "cell_type": "code",
   "execution_count": 1,
   "metadata": {},
   "outputs": [
    {
     "name": "stderr",
     "output_type": "stream",
     "text": [
      "1:1 - Cannot find name 'fetch'.\n"
     ]
    }
   ],
   "source": [
    "fetch"
   ]
  },
  {
   "cell_type": "code",
   "execution_count": 2,
   "metadata": {},
   "outputs": [
    {
     "name": "stderr",
     "output_type": "stream",
     "text": [
      "1:1 - Cannot find name 'request'.\n"
     ]
    }
   ],
   "source": [
    "request"
   ]
  },
  {
   "cell_type": "code",
   "execution_count": 3,
   "metadata": {},
   "outputs": [
    {
     "name": "stderr",
     "output_type": "stream",
     "text": [
      "1:1 - Cannot find name 'fetch'.\n"
     ]
    }
   ],
   "source": [
    "fetch()"
   ]
  },
  {
   "cell_type": "code",
   "execution_count": 4,
   "metadata": {},
   "outputs": [
    {
     "name": "stderr",
     "output_type": "stream",
     "text": [
      "1:1 - Cannot find name 'window'.\n"
     ]
    }
   ],
   "source": [
    "window"
   ]
  },
  {
   "cell_type": "code",
   "execution_count": 5,
   "metadata": {},
   "outputs": [
    {
     "name": "stderr",
     "output_type": "stream",
     "text": [
      "2:1 - Identifier expected. 'export' is a reserved word that cannot be used here.\n"
     ]
    }
   ],
   "source": [
    "function"
   ]
  },
  {
   "cell_type": "code",
   "execution_count": 6,
   "metadata": {},
   "outputs": [],
   "source": [
    "const http = require('http');"
   ]
  },
  {
   "cell_type": "code",
   "execution_count": 14,
   "metadata": {},
   "outputs": [
    {
     "name": "stdout",
     "output_type": "stream",
     "text": [
      "ClientRequest {\n",
      "  _events: [Object: null prototype] {\n",
      "    socket: [Function: bound onceWrapper] { listener: [Function: onSocket] },\n",
      "    information: [Function (anonymous)]\n",
      "  },\n",
      "  _eventsCount: 2,\n",
      "  _maxListeners: undefined,\n",
      "  outputData: [],\n",
      "  outputSize: 0,\n",
      "  writable: true,\n",
      "  _last: true,\n",
      "  chunkedEncoding: false,\n",
      "  shouldKeepAlive: false,\n",
      "  useChunkedEncodingByDefault: false,\n",
      "  sendDate: false,\n",
      "  _removedConnection: false,\n",
      "  _removedContLen: false,\n",
      "  _removedTE: false,\n",
      "  _contentLength: null,\n",
      "  _hasBody: true,\n",
      "  _trailer: '',\n",
      "  finished: false,\n",
      "  _headerSent: false,\n",
      "  socket: null,\n",
      "  _header: null,\n",
      "  _onPendingData: [Function: noopPendingOutput],\n",
      "  agent: Agent {\n",
      "    _events: [Object: null prototype] {\n",
      "      free: [Function (anonymous)],\n",
      "      newListener: [Function: maybeEnableKeylog]\n",
      "    },\n",
      "    _eventsCount: 2,\n",
      "    _maxListeners: undefined,\n",
      "    defaultPort: 80,\n",
      "    protocol: 'http:',\n",
      "    options: { path: null },\n",
      "    requests: {},\n",
      "    sockets: { 'www.google.com:80:': [Array] },\n",
      "    freeSockets: {},\n",
      "    keepAliveMsecs: 1000,\n",
      "    keepAlive: false,\n",
      "    maxSockets: Infinity,\n",
      "    maxFreeSockets: 256,\n",
      "    [Symbol(kCapture)]: false\n",
      "  },\n",
      "  socketPath: undefined,\n",
      "  method: 'CONNECT',\n",
      "  maxHeaderSize: undefined,\n",
      "  insecureHTTPParser: undefined,\n",
      "  path: '/',\n",
      "  _ended: false,\n",
      "  res: null,\n",
      "  aborted: false,\n",
      "  timeoutCb: null,\n",
      "  upgradeOrConnect: false,\n",
      "  parser: null,\n",
      "  maxHeadersCount: null,\n",
      "  reusedSocket: false,\n",
      "  [Symbol(kCapture)]: false,\n",
      "  [Symbol(kNeedDrain)]: false,\n",
      "  [Symbol(corked)]: 0,\n",
      "  [Symbol(kOutHeaders)]: [Object: null prototype] { host: [ 'Host', 'www.google.com' ] }\n",
      "}\n"
     ]
    },
    {
     "name": "stderr",
     "output_type": "stream",
     "text": [
      "UncaughtException: Error: socket hang up\n",
      "    at connResetException (internal/errors.js:613:14)\n",
      "    at Socket.socketOnEnd (_http_client.js:463:23)\n",
      "    at Socket.emit (events.js:328:22)\n",
      "    at endReadableNT (_stream_readable.js:1201:12)\n",
      "    at processTicksAndRejections (internal/process/task_queues.js:84:21) {\n",
      "  code: 'ECONNRESET'\n",
      "}\n",
      "UncaughtException: Error: socket hang up\n",
      "    at connResetException (internal/errors.js:613:14)\n",
      "    at Socket.socketOnEnd (_http_client.js:463:23)\n",
      "    at Socket.emit (events.js:328:22)\n",
      "    at endReadableNT (_stream_readable.js:1201:12)\n",
      "    at processTicksAndRejections (internal/process/task_queues.js:84:21) {\n",
      "  code: 'ECONNRESET'\n",
      "}\n"
     ]
    }
   ],
   "source": [
    "const req = http.request({\n",
    "    host: 'www.google.com',\n",
    "    method: 'CONNECT',\n",
    "});\n",
    "\n",
    "req.on('information', (info) => {\n",
    "  console.log(`Got information prior to main response: ${info.statusCode}`);\n",
    "});"
   ]
  },
  {
   "cell_type": "code",
   "execution_count": 13,
   "metadata": {
    "scrolled": true
   },
   "outputs": [
    {
     "name": "stdout",
     "output_type": "stream",
     "text": [
      "<ref *2> ClientRequest {\n",
      "  _events: [Object: null prototype] {\n",
      "    information: [ [Function (anonymous)], [Function (anonymous)] ]\n",
      "  },\n",
      "  _eventsCount: 1,\n",
      "  _maxListeners: undefined,\n",
      "  outputData: [],\n",
      "  outputSize: 0,\n",
      "  writable: true,\n",
      "  _last: true,\n",
      "  chunkedEncoding: false,\n",
      "  shouldKeepAlive: false,\n",
      "  useChunkedEncodingByDefault: false,\n",
      "  sendDate: false,\n",
      "  _removedConnection: false,\n",
      "  _removedContLen: false,\n",
      "  _removedTE: false,\n",
      "  _contentLength: null,\n",
      "  _hasBody: true,\n",
      "  _trailer: '',\n",
      "  finished: false,\n",
      "  _headerSent: false,\n",
      "  socket: <ref *1> Socket {\n",
      "    connecting: false,\n",
      "    _hadError: false,\n",
      "    _parent: null,\n",
      "    _host: 'www.google.com',\n",
      "    _readableState: ReadableState {\n",
      "      objectMode: false,\n",
      "      highWaterMark: 16384,\n",
      "      buffer: BufferList { head: null, tail: null, length: 0 },\n",
      "      length: 0,\n",
      "      pipes: [],\n",
      "      flowing: true,\n",
      "      ended: false,\n",
      "      endEmitted: false,\n",
      "      reading: true,\n",
      "      sync: false,\n",
      "      needReadable: true,\n",
      "      emittedReadable: false,\n",
      "      readableListening: false,\n",
      "      resumeScheduled: false,\n",
      "      errorEmitted: false,\n",
      "      emitClose: false,\n",
      "      autoDestroy: false,\n",
      "      destroyed: false,\n",
      "      defaultEncoding: 'utf8',\n",
      "      awaitDrainWriters: null,\n",
      "      multiAwaitDrain: false,\n",
      "      readingMore: false,\n",
      "      decoder: null,\n",
      "      encoding: null,\n",
      "      [Symbol(kPaused)]: false\n",
      "    },\n",
      "    readable: true,\n",
      "    _events: [Object: null prototype] {\n",
      "      end: [Array],\n",
      "      free: [Function: onFree],\n",
      "      close: [Array],\n",
      "      agentRemove: [Function: onRemove],\n",
      "      error: [Function: socketErrorListener],\n",
      "      data: [Function: socketOnData],\n",
      "      drain: [Function: ondrain]\n",
      "    },\n",
      "    _eventsCount: 7,\n",
      "    _maxListeners: undefined,\n",
      "    _writableState: WritableState {\n",
      "      objectMode: false,\n",
      "      highWaterMark: 16384,\n",
      "      finalCalled: false,\n",
      "      needDrain: false,\n",
      "      ending: false,\n",
      "      ended: false,\n",
      "      finished: false,\n",
      "      destroyed: false,\n",
      "      decodeStrings: false,\n",
      "      defaultEncoding: 'utf8',\n",
      "      length: 0,\n",
      "      writing: false,\n",
      "      corked: 0,\n",
      "      sync: true,\n",
      "      bufferProcessing: false,\n",
      "      onwrite: [Function: bound onwrite],\n",
      "      writecb: null,\n",
      "      writelen: 0,\n",
      "      afterWriteTickInfo: null,\n",
      "      bufferedRequest: null,\n",
      "      lastBufferedRequest: null,\n",
      "      pendingcb: 0,\n",
      "      prefinished: false,\n",
      "      errorEmitted: false,\n",
      "      emitClose: false,\n",
      "      autoDestroy: false,\n",
      "      errored: false,\n",
      "      bufferedRequestCount: 0,\n",
      "      corkedRequestsFree: [Object]\n",
      "    },\n",
      "    writable: true,\n",
      "    allowHalfOpen: false,\n",
      "    _sockname: null,\n",
      "    _pendingData: null,\n",
      "    _pendingEncoding: '',\n",
      "    server: null,\n",
      "    _server: null,\n",
      "    parser: HTTPParser {\n",
      "      '0': [Function: parserOnHeaders],\n",
      "      '1': [Function: parserOnHeadersComplete],\n",
      "      '2': [Function: parserOnBody],\n",
      "      '3': [Function: parserOnMessageComplete],\n",
      "      '4': null,\n",
      "      _headers: [],\n",
      "      _url: '',\n",
      "      socket: [Circular *1],\n",
      "      incoming: null,\n",
      "      outgoing: [Circular *2],\n",
      "      maxHeaderPairs: 2000,\n",
      "      _consumed: false,\n",
      "      onIncoming: [Function: parserOnIncomingClient]\n",
      "    },\n",
      "    _httpMessage: [Circular *2],\n",
      "    [Symbol(asyncId)]: 136,\n",
      "    [Symbol(kHandle)]: TCP {\n",
      "      reading: true,\n",
      "      onconnection: null,\n",
      "      [Symbol(owner)]: [Circular *1]\n",
      "    },\n",
      "    [Symbol(kSetNoDelay)]: false,\n",
      "    [Symbol(lastWriteQueueSize)]: 0,\n",
      "    [Symbol(timeout)]: null,\n",
      "    [Symbol(kBuffer)]: null,\n",
      "    [Symbol(kBufferCb)]: null,\n",
      "    [Symbol(kBufferGen)]: null,\n",
      "    [Symbol(kCapture)]: false,\n",
      "    [Symbol(kBytesRead)]: 0,\n",
      "    [Symbol(kBytesWritten)]: 0\n",
      "  },\n",
      "  _header: null,\n",
      "  _onPendingData: [Function: noopPendingOutput],\n",
      "  agent: Agent {\n",
      "    _events: [Object: null prototype] {\n",
      "      free: [Function (anonymous)],\n",
      "      newListener: [Function: maybeEnableKeylog]\n",
      "    },\n",
      "    _eventsCount: 2,\n",
      "    _maxListeners: undefined,\n",
      "    defaultPort: 80,\n",
      "    protocol: 'http:',\n",
      "    options: { path: null },\n",
      "    requests: {},\n",
      "    sockets: { 'www.google.com:80:': [Array] },\n",
      "    freeSockets: {},\n",
      "    keepAliveMsecs: 1000,\n",
      "    keepAlive: false,\n",
      "    maxSockets: Infinity,\n",
      "    maxFreeSockets: 256,\n",
      "    [Symbol(kCapture)]: false\n",
      "  },\n",
      "  socketPath: undefined,\n",
      "  method: 'CONNECT',\n",
      "  maxHeaderSize: undefined,\n",
      "  insecureHTTPParser: undefined,\n",
      "  path: '/',\n",
      "  _ended: false,\n",
      "  res: null,\n",
      "  aborted: false,\n",
      "  timeoutCb: null,\n",
      "  upgradeOrConnect: false,\n",
      "  parser: <ref *3> HTTPParser {\n",
      "    '0': [Function: parserOnHeaders],\n",
      "    '1': [Function: parserOnHeadersComplete],\n",
      "    '2': [Function: parserOnBody],\n",
      "    '3': [Function: parserOnMessageComplete],\n",
      "    '4': null,\n",
      "    _headers: [],\n",
      "    _url: '',\n",
      "    socket: <ref *1> Socket {\n",
      "      connecting: false,\n",
      "      _hadError: false,\n",
      "      _parent: null,\n",
      "      _host: 'www.google.com',\n",
      "      _readableState: [ReadableState],\n",
      "      readable: true,\n",
      "      _events: [Object: null prototype],\n",
      "      _eventsCount: 7,\n",
      "      _maxListeners: undefined,\n",
      "      _writableState: [WritableState],\n",
      "      writable: true,\n",
      "      allowHalfOpen: false,\n",
      "      _sockname: null,\n",
      "      _pendingData: null,\n",
      "      _pendingEncoding: '',\n",
      "      server: null,\n",
      "      _server: null,\n",
      "      parser: [Circular *3],\n",
      "      _httpMessage: [Circular *2],\n",
      "      [Symbol(asyncId)]: 136,\n",
      "      [Symbol(kHandle)]: [TCP],\n",
      "      [Symbol(kSetNoDelay)]: false,\n",
      "      [Symbol(lastWriteQueueSize)]: 0,\n",
      "      [Symbol(timeout)]: null,\n",
      "      [Symbol(kBuffer)]: null,\n",
      "      [Symbol(kBufferCb)]: null,\n",
      "      [Symbol(kBufferGen)]: null,\n",
      "      [Symbol(kCapture)]: false,\n",
      "      [Symbol(kBytesRead)]: 0,\n",
      "      [Symbol(kBytesWritten)]: 0\n",
      "    },\n",
      "    incoming: null,\n",
      "    outgoing: [Circular *2],\n",
      "    maxHeaderPairs: 2000,\n",
      "    _consumed: false,\n",
      "    onIncoming: [Function: parserOnIncomingClient]\n",
      "  },\n",
      "  maxHeadersCount: null,\n",
      "  reusedSocket: false,\n",
      "  [Symbol(kCapture)]: false,\n",
      "  [Symbol(kNeedDrain)]: false,\n",
      "  [Symbol(corked)]: 0,\n",
      "  [Symbol(kOutHeaders)]: [Object: null prototype] { host: [ 'Host', 'www.google.com' ] }\n",
      "}\n"
     ]
    }
   ],
   "source": []
  },
  {
   "cell_type": "code",
   "execution_count": 15,
   "metadata": {},
   "outputs": [
    {
     "name": "stdout",
     "output_type": "stream",
     "text": [
      "ClientRequest {\n",
      "  _events: [Object: null prototype] {\n",
      "    response: [Function: bound onceWrapper] { listener: [Function (anonymous)] },\n",
      "    socket: [Function: bound onceWrapper] { listener: [Function: onSocket] },\n",
      "    error: [Function (anonymous)]\n",
      "  },\n",
      "  _eventsCount: 3,\n",
      "  _maxListeners: undefined,\n",
      "  outputData: [\n",
      "    {\n",
      "      data: 'GET /planetary/apod?api_key=DEMO_KEY HTTP/1.1\\r\\n' +\n",
      "        'Host: api.nasa.gov\\r\\n' +\n",
      "        'Connection: close\\r\\n' +\n",
      "        '\\r\\n',\n",
      "      encoding: 'latin1',\n",
      "      callback: [Function: bound onFinish]\n",
      "    }\n",
      "  ],\n",
      "  outputSize: 88,\n",
      "  writable: true,\n",
      "  _last: true,\n",
      "  chunkedEncoding: false,\n",
      "  shouldKeepAlive: false,\n",
      "  useChunkedEncodingByDefault: false,\n",
      "  sendDate: false,\n",
      "  _removedConnection: false,\n",
      "  _removedContLen: false,\n",
      "  _removedTE: false,\n",
      "  _contentLength: 0,\n",
      "  _hasBody: true,\n",
      "  _trailer: '',\n",
      "  finished: true,\n",
      "  _headerSent: true,\n",
      "  socket: null,\n",
      "  _header: 'GET /planetary/apod?api_key=DEMO_KEY HTTP/1.1\\r\\n' +\n",
      "    'Host: api.nasa.gov\\r\\n' +\n",
      "    'Connection: close\\r\\n' +\n",
      "    '\\r\\n',\n",
      "  _onPendingData: [Function: noopPendingOutput],\n",
      "  agent: Agent {\n",
      "    _events: [Object: null prototype] {\n",
      "      free: [Function (anonymous)],\n",
      "      newListener: [Function: maybeEnableKeylog]\n",
      "    },\n",
      "    _eventsCount: 2,\n",
      "    _maxListeners: undefined,\n",
      "    defaultPort: 443,\n",
      "    protocol: 'https:',\n",
      "    options: { path: null },\n",
      "    requests: {},\n",
      "    sockets: { 'api.nasa.gov:443::::::::::::::::::': [Array] },\n",
      "    freeSockets: {},\n",
      "    keepAliveMsecs: 1000,\n",
      "    keepAlive: false,\n",
      "    maxSockets: Infinity,\n",
      "    maxFreeSockets: 256,\n",
      "    maxCachedSessions: 100,\n",
      "    _sessionCache: { map: {}, list: [] },\n",
      "    [Symbol(kCapture)]: false\n",
      "  },\n",
      "  socketPath: undefined,\n",
      "  method: 'GET',\n",
      "  maxHeaderSize: undefined,\n",
      "  insecureHTTPParser: undefined,\n",
      "  path: '/planetary/apod?api_key=DEMO_KEY',\n",
      "  _ended: false,\n",
      "  res: null,\n",
      "  aborted: false,\n",
      "  timeoutCb: null,\n",
      "  upgradeOrConnect: false,\n",
      "  parser: null,\n",
      "  maxHeadersCount: null,\n",
      "  reusedSocket: false,\n",
      "  [Symbol(kCapture)]: false,\n",
      "  [Symbol(kNeedDrain)]: false,\n",
      "  [Symbol(corked)]: 0,\n",
      "  [Symbol(kOutHeaders)]: [Object: null prototype] { host: [ 'Host', 'api.nasa.gov' ] }\n",
      "}\n",
      "With natal dust clouds in silhouette against glowing atomic gas, this colorful and chaotic vista lies within one of the largest star forming regions in the Milky Way galaxy, the Great Carina Nebula. The telescopic close-up frames a field of view about 80 light-years across, a little south and east of Eta Carinae, the nebula's most energetic and enigmatic star. Captured under suburban skies improved during national restrictions, a composite of narrowband image data was used to create the final image. In it, characteristic emission from the nebula's ionized sulfur, hydrogen, and oxygen atoms is mapped to red, green, and blue hues, a color palette also popular in Hubble Space Telescope images. The celestial landscape of bright ridges of emission bordered by cool, obscuring dust lies about 7,500 light-years away toward the southern constellation Carina.\n"
     ]
    },
    {
     "name": "stderr",
     "output_type": "stream",
     "text": [
      "UncaughtException: Error: socket hang up\n",
      "    at connResetException (internal/errors.js:613:14)\n",
      "    at Socket.socketOnEnd (_http_client.js:463:23)\n",
      "    at Socket.emit (events.js:328:22)\n",
      "    at endReadableNT (_stream_readable.js:1201:12)\n",
      "    at processTicksAndRejections (internal/process/task_queues.js:84:21) {\n",
      "  code: 'ECONNRESET'\n",
      "}\n"
     ]
    }
   ],
   "source": [
    "const https = require('https');\n",
    "\n",
    "https.get('https://api.nasa.gov/planetary/apod?api_key=DEMO_KEY', (resp) => {\n",
    "  let data = '';\n",
    "\n",
    "  // A chunk of data has been recieved.\n",
    "  resp.on('data', (chunk) => {\n",
    "    data += chunk;\n",
    "  });\n",
    "\n",
    "  // The whole response has been received. Print out the result.\n",
    "  resp.on('end', () => {\n",
    "    console.log(JSON.parse(data).explanation);\n",
    "  });\n",
    "\n",
    "}).on(\"error\", (err) => {\n",
    "  console.log(\"Error: \" + err.message);\n",
    "});"
   ]
  },
  {
   "cell_type": "code",
   "execution_count": 16,
   "metadata": {},
   "outputs": [
    {
     "name": "stderr",
     "output_type": "stream",
     "text": [
      "internal/modules/cjs/loader.js:979\n",
      "  throw err;\n",
      "  ^\n",
      "\n",
      "Error: Cannot find module 'axios'\n",
      "Require stack:\n",
      "- /notebooks/Typescript/src.js\n",
      "    at Function.Module._resolveFilename (internal/modules/cjs/loader.js:976:15)\n",
      "    at Function.Module._load (internal/modules/cjs/loader.js:859:27)\n",
      "    at Module.require (internal/modules/cjs/loader.js:1036:19)\n",
      "    at require (internal/modules/cjs/helpers.js:72:18)\n",
      "    at Object.apply (/opt/conda/lib/node_modules/tslab/dist/executor.js:62:24)\n",
      "    at evalmachine.<anonymous>:2:15\n",
      "    at evalmachine.<anonymous>:5:3\n",
      "    at sigintHandlersWrap (vm.js:282:15)\n",
      "    at Script.runInContext (vm.js:136:14)\n",
      "    at Object.runInContext (vm.js:303:6) {\n",
      "  code: 'MODULE_NOT_FOUND',\n",
      "  requireStack: [ '/notebooks/Typescript/src.js' ]\n",
      "}\n"
     ]
    }
   ],
   "source": [
    "const axios = require('axios');"
   ]
  },
  {
   "cell_type": "code",
   "execution_count": 1,
   "metadata": {},
   "outputs": [
    {
     "name": "stderr",
     "output_type": "stream",
     "text": [
      "internal/modules/cjs/loader.js:979\n",
      "  throw err;\n",
      "  ^\n",
      "\n",
      "Error: Cannot find module 'axios'\n",
      "Require stack:\n",
      "- /notebooks/Typescript/src.js\n",
      "    at Function.Module._resolveFilename (internal/modules/cjs/loader.js:976:15)\n",
      "    at Function.Module._load (internal/modules/cjs/loader.js:859:27)\n",
      "    at Module.require (internal/modules/cjs/loader.js:1036:19)\n",
      "    at require (internal/modules/cjs/helpers.js:72:18)\n",
      "    at Object.apply (/opt/conda/lib/node_modules/tslab/dist/executor.js:62:24)\n",
      "    at evalmachine.<anonymous>:2:15\n",
      "    at evalmachine.<anonymous>:5:3\n",
      "    at sigintHandlersWrap (vm.js:282:15)\n",
      "    at Script.runInContext (vm.js:136:14)\n",
      "    at Object.runInContext (vm.js:303:6) {\n",
      "  code: 'MODULE_NOT_FOUND',\n",
      "  requireStack: [ '/notebooks/Typescript/src.js' ]\n",
      "}\n"
     ]
    }
   ],
   "source": [
    "const axios = require('axios');"
   ]
  },
  {
   "cell_type": "code",
   "execution_count": 2,
   "metadata": {},
   "outputs": [
    {
     "name": "stderr",
     "output_type": "stream",
     "text": [
      "2:20 - Argument of type '\"https://github.com/fluidicon.png\"' is not assignable to parameter of type 'Uint8Array'.\n"
     ]
    }
   ],
   "source": [
    "import * as tslab from \"tslab\";\n",
    "tslab.display.jpeg(\"https://github.com/fluidicon.png\");"
   ]
  },
  {
   "cell_type": "code",
   "execution_count": 3,
   "metadata": {},
   "outputs": [],
   "source": [
    "const fs = require(\"fs\");"
   ]
  },
  {
   "cell_type": "code",
   "execution_count": 4,
   "metadata": {},
   "outputs": [],
   "source": [
    "import * as tslab from \"tslab\";"
   ]
  },
  {
   "cell_type": "code",
   "execution_count": 19,
   "metadata": {},
   "outputs": [
    {
     "data": {
      "image/jpeg": "[encoded data removed]"
     },
     "metadata": {},
     "output_type": "display_data"
    }
   ],
   "source": [
    "const https = require('https');\n",
    "tslab.display.jpeg(fs.readFileSync('gopher.png'))"
   ]
  },
  {
   "cell_type": "code",
   "execution_count": null,
   "metadata": {},
   "outputs": [],
   "source": []
  }
 ],
 "metadata": {
  "kernelspec": {
   "display_name": "TypeScript",
   "language": "typescript",
   "name": "tslab"
  },
  "language_info": {
   "codemirror_mode": {
    "mode": "typescript",
    "name": "javascript",
    "typescript": true
   },
   "file_extension": ".ts",
   "mimetype": "text/typescript",
   "name": "typescript",
   "version": "3.7.2"
  }
 },
 "nbformat": 4,
 "nbformat_minor": 4
}
